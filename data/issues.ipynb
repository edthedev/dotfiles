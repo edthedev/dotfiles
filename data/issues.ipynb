{
 "cells": [
  {
   "cell_type": "code",
   "execution_count": null,
   "metadata": {},
   "outputs": [],
   "source": [
    "import platform\n",
    "import matplotlib.pyplot as plt\n",
    "print(platform.python_version())"
   ]
  },
  {
   "cell_type": "markdown",
   "metadata": {},
   "source": []
  },
  {
   "cell_type": "markdown",
   "metadata": {},
   "source": [
    "# Todo List\n",
    "\n",
    "- [x] add calculated year to the metadata\n",
    "- [ ] make one chart per year\n",
    "- [x] make sure all the data files are getting loaded"
   ]
  },
  {
   "cell_type": "code",
   "execution_count": null,
   "metadata": {},
   "outputs": [],
   "source": [
    "# Get ye data\n",
    "import glob\n",
    "import os\n",
    "\n",
    "data_files = glob.glob(os.path.expanduser('~\\\\Data\\\\*.json'))\n",
    "\n",
    "for file in data_files:\n",
    "\tprint(f\"{file}\", os.path.getsize(file))\n",
    "\n"
   ]
  },
  {
   "cell_type": "code",
   "execution_count": null,
   "metadata": {},
   "outputs": [],
   "source": [
    "import pandas as pd\n",
    "\n",
    "data_frames = []\n",
    "for file in data_files:\n",
    "\n",
    "\tf = open(file, encoding='utf-8')\n",
    "\tdf_temp = pd.read_json(f)\n",
    "\tdata_frames.append(df_temp)\n",
    "\n",
    "df = pd.concat(data_frames, ignore_index=True)"
   ]
  },
  {
   "cell_type": "code",
   "execution_count": null,
   "metadata": {},
   "outputs": [],
   "source": [
    "import numpy as np\n",
    "df['count'] = np.zeros(len(df))\n",
    "\n"
   ]
  },
  {
   "cell_type": "markdown",
   "metadata": {},
   "source": [
    "#### Pie Chart"
   ]
  },
  {
   "cell_type": "code",
   "execution_count": null,
   "metadata": {},
   "outputs": [],
   "source": [
    "\n",
    "dfp = df\n",
    "# dfp['mile'] = [m.get('title') if m else None for m in dfp.milestone]\n",
    "dfp['mile'] = [m.get('title') if hasattr(m, 'get') else None for m in dfp['milestone']]\n"
   ]
  },
  {
   "cell_type": "code",
   "execution_count": null,
   "metadata": {},
   "outputs": [],
   "source": [
    "closed_dates = pd.to_datetime(df['closedAt'], format='ISO8601')\n",
    "dfp['year'] = closed_dates.dt.year\n",
    "\n",
    "dfp.drop(columns=['closedAt','milestone', 'url'], inplace=True)\n",
    "print(dfp)"
   ]
  },
  {
   "cell_type": "code",
   "execution_count": null,
   "metadata": {},
   "outputs": [],
   "source": [
    "\n",
    "mile_counts = dfp.groupby('mile')['title'].nunique()\n",
    "dfp['count'] = dfp['mile'].map(mile_counts)\n",
    "# dfp.drop(columns=['title'], inplace=True)\n",
    "dfp['mile'] = df['mile'].drop_duplicates()\n",
    "dfp.dropna(inplace=True)\n",
    "dfp = dfp[dfp['count'] > 5]\n",
    "print(dfp)"
   ]
  },
  {
   "cell_type": "code",
   "execution_count": null,
   "metadata": {},
   "outputs": [],
   "source": [
    "mile_counts = df.groupby('mile')['count'].sum()\n",
    "mile_counts = mile_counts.loc[lambda x: x > 5]\n",
    "\n",
    "\n",
    "print(mile_counts)"
   ]
  },
  {
   "cell_type": "code",
   "execution_count": null,
   "metadata": {},
   "outputs": [],
   "source": [
    "\n",
    "plt.pie(mile_counts, labels=mile_counts.index, autopct='%0.1f%%')\n",
    "plt.title(f\"Tasks by Milestone\")\n",
    "plt.axis('equal')\n",
    "plt.show()"
   ]
  },
  {
   "cell_type": "code",
   "execution_count": null,
   "metadata": {},
   "outputs": [],
   "source": [
    "type(mile_counts)"
   ]
  },
  {
   "cell_type": "markdown",
   "metadata": {},
   "source": [
    "#### Plot of closed issues by month and milestone for one project\n"
   ]
  },
  {
   "cell_type": "code",
   "execution_count": null,
   "metadata": {},
   "outputs": [],
   "source": [
    "closed_months = pd.to_datetime(df['closedAt'], format='ISO8601')\n",
    "df['closed_month'] = closed_months.dt.month\n",
    "df.drop(columns=['closedAt'], inplace=True)"
   ]
  },
  {
   "cell_type": "code",
   "execution_count": null,
   "metadata": {},
   "outputs": [],
   "source": [
    "df['mile'] = [d.get('title') if d else None for d in df.milestone]"
   ]
  },
  {
   "cell_type": "code",
   "execution_count": null,
   "metadata": {},
   "outputs": [],
   "source": [
    "\n",
    "dfg = df.groupby(['mile', 'closed_month']).count().reset_index()\n",
    "dfg.drop(columns=['milestone', 'title', 'url'], inplace=True)\n"
   ]
  },
  {
   "cell_type": "code",
   "execution_count": null,
   "metadata": {},
   "outputs": [],
   "source": [
    "exclude_from_chart = [\n",
    "\t'Job Aid Ideas']\n",
    "\n",
    "for ex in exclude_from_chart:\n",
    "\tdfg = dfg[dfg['mile'] != ex]\n"
   ]
  },
  {
   "cell_type": "code",
   "execution_count": null,
   "metadata": {},
   "outputs": [],
   "source": [
    "import seaborn as sns\n",
    "import matplotlib.pyplot as plt\n",
    "sns.set_theme()"
   ]
  },
  {
   "cell_type": "code",
   "execution_count": null,
   "metadata": {},
   "outputs": [],
   "source": [
    "plt.figure(figsize=(10, 6))\n",
    "sns.pie(x='closed_month', y='count', hue='mile', data=dfg)\n",
    "plt.pie(dfg, )\n",
    "plt.xlabel('Closed Month')\n",
    "plt.ylabel('ClosedAt')\n",
    "plt.title('Stacked Line Chart: Milestone Effort by Issue Close Date')\n",
    "plt.xticks(rotation=45)\n",
    "plt.legend(title='Mile', loc='upper left')\n",
    "plt.show()"
   ]
  }
 ],
 "metadata": {
  "kernelspec": {
   "display_name": "Python 3",
   "language": "python",
   "name": "python3"
  },
  "language_info": {
   "codemirror_mode": {
    "name": "ipython",
    "version": 3
   },
   "file_extension": ".py",
   "mimetype": "text/x-python",
   "name": "python",
   "nbconvert_exporter": "python",
   "pygments_lexer": "ipython3",
   "version": "3.12.2"
  }
 },
 "nbformat": 4,
 "nbformat_minor": 2
}
